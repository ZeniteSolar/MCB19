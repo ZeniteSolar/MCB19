{
 "cells": [
  {
   "cell_type": "code",
   "execution_count": 3,
   "metadata": {},
   "outputs": [
    {
     "ename": "NameError",
     "evalue": "name 'V_dh' is not defined",
     "output_type": "error",
     "traceback": [
      "\u001b[0;31m---------------------------------------------------------------------------\u001b[0m",
      "\u001b[0;31mNameError\u001b[0m                                 Traceback (most recent call last)",
      "\u001b[0;32m<ipython-input-3-13d6378a5f03>\u001b[0m in \u001b[0;36m<module>\u001b[0;34m\u001b[0m\n\u001b[1;32m     21\u001b[0m \u001b[0mV_hbl\u001b[0m \u001b[0;34m=\u001b[0m \u001b[0mV_hbr\u001b[0m \u001b[0;34m-\u001b[0m \u001b[0mV_hbh\u001b[0m\u001b[0;34m\u001b[0m\u001b[0;34m\u001b[0m\u001b[0m\n\u001b[1;32m     22\u001b[0m \u001b[0;34m\u001b[0m\u001b[0m\n\u001b[0;32m---> 23\u001b[0;31m \u001b[0md_V_hb\u001b[0m \u001b[0;34m=\u001b[0m \u001b[0mV_dd\u001b[0m \u001b[0;34m-\u001b[0m \u001b[0mV_dh\u001b[0m \u001b[0;34m-\u001b[0m \u001b[0mV_hbl\u001b[0m\u001b[0;34m\u001b[0m\u001b[0;34m\u001b[0m\u001b[0m\n\u001b[0m\u001b[1;32m     24\u001b[0m \u001b[0;34m\u001b[0m\u001b[0m\n\u001b[1;32m     25\u001b[0m \u001b[0mD_max\u001b[0m \u001b[0;34m=\u001b[0m \u001b[0;36m1\u001b[0m\u001b[0;34m\u001b[0m\u001b[0;34m\u001b[0m\u001b[0m\n",
      "\u001b[0;31mNameError\u001b[0m: name 'V_dh' is not defined"
     ]
    }
   ],
   "source": [
    "irfp260n = {\n",
    "    \"C_iss\": 4057e-12,\n",
    "    \"C_oss\": 603e-12,\n",
    "    \"C_rss\": 161e-12,\n",
    "    \"Q_g\": 234e-9,\n",
    "    \"Q_gs\": 38e-9,\n",
    "    \"Q_gd\": 110e-9,\n",
    "    \"V_gs\": 4.5,\n",
    "}\n",
    "lm5104 = {\n",
    "    \"V_dd\": 12,\n",
    "    \"V_dh\": 0,\n",
    "    \"V_gs_min\": 0,\n",
    "}\n",
    "\n",
    "V_hbr = 0\n",
    "V_hbh = 0\n",
    "\n",
    "V_dd = lm5104[\"V_dd\"]\n",
    "\n",
    "V_hbl = V_hbr - V_hbh\n",
    "\n",
    "d_V_hb = V_dd - V_dh - V_hbl\n",
    "\n",
    "D_max = 1\n",
    "F_sw = 32e3\n",
    "Q_total = Q_g + I_hbo * D_max/F_sw\n",
    "\n",
    "C_boot = Q_total/(d_V_hb)"
   ]
  }
 ],
 "metadata": {
  "kernelspec": {
   "display_name": "Python 3",
   "language": "python",
   "name": "python3"
  },
  "language_info": {
   "codemirror_mode": {
    "name": "ipython",
    "version": 3
   },
   "file_extension": ".py",
   "mimetype": "text/x-python",
   "name": "python",
   "nbconvert_exporter": "python",
   "pygments_lexer": "ipython3",
   "version": "3.8.1"
  }
 },
 "nbformat": 4,
 "nbformat_minor": 4
}
