{
 "cells": [
  {
   "cell_type": "markdown",
   "metadata": {},
   "source": [
    "Following Detailed Design Procedure from lm5104 datasheet:"
   ]
  },
  {
   "cell_type": "code",
   "execution_count": 16,
   "metadata": {
    "ExecuteTime": {
     "end_time": "2020-07-29T02:08:22.411880Z",
     "start_time": "2020-07-29T02:08:22.398907Z"
    }
   },
   "outputs": [
    {
     "name": "stdout",
     "output_type": "stream",
     "text": [
      "The bootstrap capacitor should be grater than 5.181603773584905e-08 F\n"
     ]
    }
   ],
   "source": [
    "irfp260n = {\n",
    "    \"C_iss\": 4057e-12,\n",
    "    \"C_oss\": 603e-12,\n",
    "    \"C_rss\": 161e-12,\n",
    "    \"Q_g\": 234e-9,\n",
    "    \"Q_gs\": 38e-9,\n",
    "    \"Q_gd\": 110e-9,\n",
    "    \"V_gs\": 4.5,\n",
    "}\n",
    "lm5104 = {\n",
    "    \"V_dd\": 12,\n",
    "    \"V_dh\": 0,\n",
    "    \"I_hbo\": 1.3e-3,\n",
    "    \"V_hbr\": 7.1,\n",
    "    \"V_hbh\": 0.4,\n",
    "}\n",
    "\n",
    "V_hbr = lm5104[\"V_hbr\"]\n",
    "V_hbh = lm5104[\"V_hbh\"]\n",
    "V_dd = lm5104[\"V_dd\"]\n",
    "V_dh = lm5104[\"V_dh\"]\n",
    "I_hbo = lm5104[\"I_hbo\"]\n",
    "\n",
    "Q_g = irfp260n[\"Q_g\"]\n",
    "\n",
    "V_hbl = V_hbr - V_hbh\n",
    "\n",
    "d_V_hb = V_dd - V_dh - V_hbl\n",
    "\n",
    "D_max = 1\n",
    "F_sw = 32e3\n",
    "Q_total = Q_g + I_hbo * D_max / F_sw\n",
    "\n",
    "C_boot = Q_total / (d_V_hb)\n",
    "\n",
    "print(f\"The bootstrap capacitor should be grater than {C_boot} F\")"
   ]
  }
 ],
 "metadata": {
  "hide_input": false,
  "kernelspec": {
   "display_name": "Python 3",
   "language": "python",
   "name": "python3"
  },
  "language_info": {
   "codemirror_mode": {
    "name": "ipython",
    "version": 3
   },
   "file_extension": ".py",
   "mimetype": "text/x-python",
   "name": "python",
   "nbconvert_exporter": "python",
   "pygments_lexer": "ipython3",
   "version": "3.8.3"
  },
  "toc": {
   "base_numbering": 1,
   "nav_menu": {},
   "number_sections": true,
   "sideBar": true,
   "skip_h1_title": false,
   "title_cell": "Table of Contents",
   "title_sidebar": "Contents",
   "toc_cell": false,
   "toc_position": {},
   "toc_section_display": true,
   "toc_window_display": false
  },
  "varInspector": {
   "cols": {
    "lenName": 16,
    "lenType": 16,
    "lenVar": 40
   },
   "kernels_config": {
    "python": {
     "delete_cmd_postfix": "",
     "delete_cmd_prefix": "del ",
     "library": "var_list.py",
     "varRefreshCmd": "print(var_dic_list())"
    },
    "r": {
     "delete_cmd_postfix": ") ",
     "delete_cmd_prefix": "rm(",
     "library": "var_list.r",
     "varRefreshCmd": "cat(var_dic_list()) "
    }
   },
   "types_to_exclude": [
    "module",
    "function",
    "builtin_function_or_method",
    "instance",
    "_Feature"
   ],
   "window_display": false
  }
 },
 "nbformat": 4,
 "nbformat_minor": 4
}
