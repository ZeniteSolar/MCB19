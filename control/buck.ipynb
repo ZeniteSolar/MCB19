{
 "cells": [
  {
   "cell_type": "markdown",
   "metadata": {},
   "source": [
    "# Modelagem do Buck\n",
    "\n",
    "Considerando $\\mu = 1$ como a chave ligada e $\\mu = 0$ como a chave desligada, a topologia _buck_ pode ser descria pelas seguintes equações diferenciais de primeira ordem:\n",
    "\n",
    "$$\n",
    "    Lo\\,\\frac{di_{L}(t)}{dt} = -v_{o}(t) + \\mu v_{i}(t) \\\\\n",
    "    Co\\,\\frac{dv_{o}(t)}{dt} = -\\frac{v_{o}(t)}{R} + i_{L}(t)\n",
    "$$"
   ]
  },
  {
   "cell_type": "markdown",
   "metadata": {},
   "source": [
    "Considerando $x_{1}$ como uma pequena variação de no valor da corrente por volta do valor nominal e $x_{2}$ como uma pequena variação na corrente de saída por volta do valor nominal.   \n",
    "\n",
    "Considerando $\\hat{d}$ e $\\hat{v_{i}}$ como sendo uma pequena variação no _duty cycle_ por volta do valor nominal e uma pequena vairação na tensão de entrada por volta do valor nominal, respectivamente.  \n",
    "\n",
    "A modelagem média em espaço de estados pode ser decrita como:\n",
    "\n",
    "$$\n",
    "    \\begin{bmatrix}\n",
    "        \\dot{x_{1}} \\\\\n",
    "        \\dot{x_{2}} \\\\\n",
    "    \\end{bmatrix} = \n",
    "    \\begin{bmatrix}\n",
    "        0 & \\frac{-1}{Lo} \\\\\n",
    "        \\frac{1}{Co} & \\frac{-1}{RCo} \\\\\n",
    "    \\end{bmatrix}\n",
    "    \\begin{bmatrix}\n",
    "        x_{1} \\\\\n",
    "        x_{2} \\\\\n",
    "    \\end{bmatrix}\n",
    "    +\n",
    "    \\begin{bmatrix}\n",
    "        \\frac{v_{i}}{Lo} \\\\\n",
    "        0 \\\\\n",
    "    \\end{bmatrix} \\hat{d}\n",
    "    +\n",
    "    \\begin{bmatrix}\n",
    "        \\frac{D_{n}}{Lo} \\\\\n",
    "        0 \\\\\n",
    "    \\end{bmatrix} \\hat{v_{i}}\n",
    "$$"
   ]
  },
  {
   "cell_type": "markdown",
   "metadata": {},
   "source": [
    "Assumindo que a variação na carga pode ser representada pela variação da resistência da carga e considerando $R_{n}$ a resistência para a carga nominal, $R_{min}$ para a mínima e $R_{max}$ para a máxima:\n",
    "\n",
    "$$\n",
    "    \\frac{1}{RoCo} = \\frac{1}{Co(Ro_{n} + \\Delta Ro_{n})} = \\frac{1}{CoRo_{n}} \\pm \\delta \\\\\n",
    "    R_{n} = \\frac{2(Ro_{min}Ro_{max})}{(Ro_{min}+Ro_{max})} \\\\\n",
    "    \\delta \\leq \\frac{1}{Co} \\frac{(Ro_{max}-R_{min})}{2(Ro_{min}Ro_{max})}\n",
    "$$"
   ]
  },
  {
   "cell_type": "markdown",
   "metadata": {},
   "source": [
    "Então a seguinte equação de espaço de estados pode ser formulada:\n",
    "\n",
    "$$\n",
    "    \\dot{x} = A \\hat{x} + B_{1} \\hat{d} + B_{2} \\hat{v_{i}} + B_{3}f_{d}(\\delta, \\hat{x}) \\\\\n",
    "    A = \\begin{bmatrix}\n",
    "        0 & \\frac{-1}{Lo} \\\\\n",
    "        \\frac{1}{Co} & \\frac{-1}{CoR_{n}}\n",
    "    \\end{bmatrix} \\\\\n",
    "    B_{1} = \\begin{bmatrix}\n",
    "        \\frac{v_{i}}{Lo} \\\\\n",
    "        0\n",
    "    \\end{bmatrix} \\\\\n",
    "    B_{2} = \\begin{bmatrix}\n",
    "        \\frac{D_{n}}{Lo} \\\\\n",
    "        0\n",
    "    \\end{bmatrix} \\\\\n",
    "    B_{3} = \\begin{bmatrix}\n",
    "        0 \\\\\n",
    "        1\n",
    "    \\end{bmatrix} \\\\\n",
    "    f_{d}(\\delta, \\hat{x}) = \\delta \\hat{x_{2}}\n",
    "$$"
   ]
  },
  {
   "cell_type": "markdown",
   "metadata": {},
   "source": [
    "## Especificações do Conversor Buck"
   ]
  },
  {
   "cell_type": "code",
   "execution_count": 38,
   "metadata": {},
   "outputs": [
    {
     "name": "stdout",
     "output_type": "stream",
     "text": [
      "vi_min: 280 V\n",
      "vi_n: 308 V\n",
      "vi_max: 328 V\n",
      "\n",
      "vo_ref: 132 V\n",
      "p_max: 1200 W\n",
      "f_sw: 36000 Hz\n",
      "\n",
      "D_min: 0.4024390243902439\n",
      "D_n: 0.42857142857142855\n",
      "D_max: 0.4714285714285714\n",
      "\n",
      "io_min: 0.87 A\n",
      "io_n: 4.933 A\n",
      "io_max: 9 A\n",
      "\n",
      "io_ripple 1.74 A\n",
      "vo_ripple: 0.23 V\n",
      "\n",
      "Ro_min: 14.666666666666666 A\n",
      "Ro_n: 26.758564767889723 A\n",
      "Ro_max: 151.72413793103448 A\n",
      "\n",
      "Lo: 1204.15982484948 uH\n",
      "Co: 0.04577020202020202 uF\n"
     ]
    }
   ],
   "source": [
    "vi_min = 280 # V\n",
    "vi_n = 308 # V\n",
    "vi_max = 328 # V\n",
    "print(\"vi_min:\", vi_min, \"V\")\n",
    "print(\"vi_n:\", vi_n, \"V\")\n",
    "print(\"vi_max:\", vi_max, \"V\")\n",
    "print()\n",
    "\n",
    "vo_ref = 132 # V\n",
    "p_max = 1200 # W\n",
    "f_sw = 36000 # Hz\n",
    "print(\"vo_ref:\", vo_ref, \"V\")\n",
    "print(\"p_max:\", p_max, \"W\")\n",
    "print(\"f_sw:\", f_sw, \"Hz\")\n",
    "print()\n",
    "\n",
    "\n",
    "D_n = vo_ref / vi_n\n",
    "D_min = vo_ref / vi_max\n",
    "D_max = vo_ref / vi_min\n",
    "print(\"D_min:\", D_min)\n",
    "print(\"D_n:\", D_n)\n",
    "print(\"D_max:\", D_max)\n",
    "print()\n",
    "\n",
    "io_n = 4.933\n",
    "io_min = 0.87 # A\n",
    "io_max = 9 # A\n",
    "print(\"io_min:\", io_min, \"A\")\n",
    "print(\"io_n:\", io_n, \"A\")\n",
    "print(\"io_max:\", io_max, \"A\")\n",
    "print()\n",
    "\n",
    "io_ripple = 1.74 # A\n",
    "vo_ripple = 0.23 # V\n",
    "print(\"io_ripple\", io_ripple, \"A\")\n",
    "print(\"vo_ripple:\", vo_ripple, \"V\")\n",
    "print()\n",
    "\n",
    "Ro_n = vo_ref / io_n\n",
    "Ro_min = vo_ref / io_max\n",
    "Ro_max = vo_ref / io_min\n",
    "print(\"Ro_min:\", Ro_min, \"A\")\n",
    "print(\"Ro_n:\", Ro_n, \"A\")\n",
    "print(\"Ro_max:\", Ro_max, \"A\")\n",
    "print()\n",
    "\n",
    "Lo = vo_ref * (1 - D_n) / (f_sw * io_ripple)\n",
    "Co = io_ripple / (8 * f_sw * vo_ref)\n",
    "print(\"Lo:\", Lo*1E6, \"uH\")\n",
    "print(\"Co:\", Co*1E6, \"uF\")"
   ]
  },
  {
   "cell_type": "markdown",
   "metadata": {},
   "source": [
    "## Equação no Espaço de estados"
   ]
  },
  {
   "cell_type": "code",
   "execution_count": 43,
   "metadata": {},
   "outputs": [],
   "source": [
    "# import control\n",
    "# import numpy as np\n",
    "\n",
    "# A = np.matrix(\n",
    "#     [[0 , -1 / Lo], \n",
    "#      [1 / Co , -1 / (Co * Ro_n)]]\n",
    "# )\n",
    "# B_1 = np.matrix(\n",
    "#     [[vi_n / L], \n",
    "#      [0]]\n",
    "# )\n",
    "# B_2 = np.matrix(\n",
    "#     [[D_n / L], \n",
    "#      [0]]\n",
    "# )\n",
    "# B_3 = np.matrix(\n",
    "#     [[0], \n",
    "#      [1]]\n",
    "# )\n",
    "# C = np.matrix(\n",
    "#     [[0, 0], \n",
    "#      [1, 0]]\n",
    "# )\n",
    "# D = np.matrix(\n",
    "#     [[0], \n",
    "#      [1]]\n",
    "# )\n",
    "\n",
    "# sys = control.ss(A, B, C, D)\n",
    "\n",
    "# print(f'\\nsys = \\n{sys}')"
   ]
  },
  {
   "cell_type": "markdown",
   "metadata": {},
   "source": [
    "## Função de transferência"
   ]
  },
  {
   "cell_type": "code",
   "execution_count": null,
   "metadata": {},
   "outputs": [],
   "source": [
    "import control\n",
    "import numpy as np\n",
    "\n"
   ]
  },
  {
   "cell_type": "markdown",
   "metadata": {},
   "source": [
    "# Modelagem do Controlador"
   ]
  },
  {
   "cell_type": "markdown",
   "metadata": {},
   "source": []
  }
 ],
 "metadata": {
  "kernelspec": {
   "display_name": "Python 3",
   "language": "python",
   "name": "python3"
  },
  "language_info": {
   "codemirror_mode": {
    "name": "ipython",
    "version": 3
   },
   "file_extension": ".py",
   "mimetype": "text/x-python",
   "name": "python",
   "nbconvert_exporter": "python",
   "pygments_lexer": "ipython3",
   "version": "3.8.1"
  }
 },
 "nbformat": 4,
 "nbformat_minor": 4
}
