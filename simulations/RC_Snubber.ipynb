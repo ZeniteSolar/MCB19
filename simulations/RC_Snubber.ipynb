{
 "cells": [
  {
   "cell_type": "markdown",
   "metadata": {
    "ExecuteTime": {
     "end_time": "2019-06-07T16:46:31.243492Z",
     "start_time": "2019-06-07T16:46:31.238167Z"
    }
   },
   "source": [
    "# RC Snubber Design\n",
    "[Rudy - Snubber](https://rudys.typepad.com/files/snubber-e-book-complete.pdf)"
   ]
  },
  {
   "cell_type": "code",
   "execution_count": 4,
   "metadata": {
    "ExecuteTime": {
     "end_time": "2019-08-05T01:03:59.020432Z",
     "start_time": "2019-08-05T01:03:58.999234Z"
    }
   },
   "outputs": [],
   "source": [
    "import numpy as np\n",
    "from decimal import Decimal\n",
    "\n",
    "\n",
    "def compute_parasites(f_ring_before, f_ring_after, C_add):\n",
    "    C = C_add / ((f_ring_before / f_ring_after)**2 - 1)\n",
    "    L = 1 / (C*(2 * np.pi * f_ring_before)**2)\n",
    "    parasites = {'C': C,\n",
    "                 'L': L}\n",
    "\n",
    "    return parasites\n",
    "\n",
    "\n",
    "def compute_snubber(parasites, C=None, R=None):\n",
    "    if C is None:\n",
    "        C = parasites['C'] * np.array([3, 10])\n",
    "\n",
    "    if R is None:\n",
    "        Z = np.sqrt(parasites['L'] / parasites['C'])\n",
    "        R = Z * np.array([1, 2])\n",
    "\n",
    "    snubber = {'C': C,\n",
    "               'R': R}\n",
    "    return snubber\n",
    "\n",
    "\n",
    "def compute_snubber_losses(snubber, V, f_sw):\n",
    "    P_R = snubber['C'] * f_sw * V**2\n",
    "    return P_R\n",
    "\n",
    "\n",
    "def compute_peak_voltage(parasites, snubber, Vo, Io):\n",
    "    Vpk = Vo * (1 + np.sqrt(1 + ((Io / Vo)**2) *\n",
    "                            (parasites['L'] / parasites['C'])))\n",
    "    return Vpk\n",
    "\n",
    "\n",
    "def compute_mosfet_capacitances(Ciss, Coss, Crss):\n",
    "    capacitances = {'Cgd': Crss,\n",
    "                    'Cgs': Ciss - Crss,\n",
    "                    'Cds': Coss - Crss}\n",
    "    return capacitances"
   ]
  },
  {
   "cell_type": "markdown",
   "metadata": {},
   "source": [
    "## 0. Parâmetros do Conversor"
   ]
  },
  {
   "cell_type": "code",
   "execution_count": 5,
   "metadata": {
    "ExecuteTime": {
     "end_time": "2019-08-05T01:04:01.075754Z",
     "start_time": "2019-08-05T01:04:01.068822Z"
    }
   },
   "outputs": [
    {
     "name": "stdout",
     "output_type": "stream",
     "text": [
      "Vo = 12 V\n",
      "Io = 8.5 A\n",
      "Po = 102.0 W\n"
     ]
    }
   ],
   "source": [
    "Vo = 12\n",
    "Io = 8.5\n",
    "Po = Io * Vo\n",
    "\n",
    "print(f'Vo = {Vo} V')\n",
    "print(f'Io = {Io} A')\n",
    "print(f'Po = {Po} W')"
   ]
  },
  {
   "cell_type": "markdown",
   "metadata": {},
   "source": [
    "## 1. Snubber para o Diodo:"
   ]
  },
  {
   "cell_type": "markdown",
   "metadata": {},
   "source": [
    "### 1.1. Inferindo as impedâncias parasitas:"
   ]
  },
  {
   "cell_type": "code",
   "execution_count": 8,
   "metadata": {
    "ExecuteTime": {
     "end_time": "2019-08-05T01:05:27.668884Z",
     "start_time": "2019-08-05T01:05:27.659864Z"
    }
   },
   "outputs": [
    {
     "name": "stdout",
     "output_type": "stream",
     "text": [
      "Clk = 1.1447871245400463e-08 F\n",
      "Llk = 1.0451762689710358e-08 F\n",
      "Cs range = [3.43436137e-08 1.14478712e-07] F\n",
      "Rs range = [0.95550376 1.91100753] Ohms\n"
     ]
    }
   ],
   "source": [
    "diode_parasites = compute_parasites(f_ring_before=14.55e6,\n",
    "                                    f_ring_after=10.63e6,\n",
    "                                    C_add=10e-9)\n",
    "\n",
    "print(f\"Clk = {diode_parasites['C']} F\")\n",
    "print(f\"Llk = {diode_parasites['L']} F\")\n",
    "\n",
    "diode_snubber = compute_snubber(diode_parasites)\n",
    "\n",
    "print(f\"Cs range = {diode_snubber['C']} F\")\n",
    "print(f\"Rs range = {diode_snubber['R']} Ohms\")"
   ]
  },
  {
   "cell_type": "markdown",
   "metadata": {},
   "source": [
    "### 1.2. Escolhendo uma capacitância:"
   ]
  },
  {
   "cell_type": "code",
   "execution_count": 14,
   "metadata": {
    "ExecuteTime": {
     "end_time": "2019-08-05T01:06:38.800737Z",
     "start_time": "2019-08-05T01:06:38.794240Z"
    }
   },
   "outputs": [
    {
     "name": "stdout",
     "output_type": "stream",
     "text": [
      "Cs chosen = 4.7e-08 F\n",
      "Rs range = [0.95550376 1.91100753] Ohms\n"
     ]
    }
   ],
   "source": [
    "C = 47e-9\n",
    "diode_snubber = compute_snubber(diode_parasites,\n",
    "                                C=C)\n",
    "\n",
    "print(f\"Cs chosen = {diode_snubber['C']} F\")\n",
    "print(f\"Rs range = {diode_snubber['R']} Ohms\")"
   ]
  },
  {
   "cell_type": "markdown",
   "metadata": {},
   "source": [
    "### 1.3. Escolhendo uma resistência:"
   ]
  },
  {
   "cell_type": "code",
   "execution_count": 15,
   "metadata": {
    "ExecuteTime": {
     "end_time": "2019-08-05T01:06:40.735718Z",
     "start_time": "2019-08-05T01:06:40.730391Z"
    }
   },
   "outputs": [
    {
     "name": "stdout",
     "output_type": "stream",
     "text": [
      "Cs chosen = 4.7e-08 F\n",
      "Rs chosen = 1 Ohms\n"
     ]
    }
   ],
   "source": [
    "R = 1\n",
    "diode_snubber = compute_snubber(diode_parasites,\n",
    "                                C=diode_snubber['C'],\n",
    "                                R=R)\n",
    "\n",
    "print(f\"Cs chosen = {diode_snubber['C']} F\")\n",
    "print(f\"Rs chosen = {diode_snubber['R']} Ohms\")"
   ]
  },
  {
   "cell_type": "markdown",
   "metadata": {},
   "source": [
    "### 1.4. Verificando o pico de tensão com o snubber"
   ]
  },
  {
   "cell_type": "code",
   "execution_count": 16,
   "metadata": {
    "ExecuteTime": {
     "end_time": "2019-08-05T01:06:42.894545Z",
     "start_time": "2019-08-05T01:06:42.888779Z"
    },
    "scrolled": true
   },
   "outputs": [
    {
     "name": "stdout",
     "output_type": "stream",
     "text": [
      "Vpk = 26.49011189453779\n"
     ]
    }
   ],
   "source": [
    "Vpk = compute_peak_voltage(diode_parasites,\n",
    "                           diode_snubber,\n",
    "                           Vo=Vo,\n",
    "                           Io=Io)\n",
    "print(f'Vpk = {Vpk}')"
   ]
  },
  {
   "cell_type": "markdown",
   "metadata": {},
   "source": [
    "### 1.5. Verificando a potência perdida no resistor:"
   ]
  },
  {
   "cell_type": "code",
   "execution_count": 17,
   "metadata": {
    "ExecuteTime": {
     "end_time": "2019-08-05T01:06:45.124152Z",
     "start_time": "2019-08-05T01:06:45.118973Z"
    }
   },
   "outputs": [
    {
     "name": "stdout",
     "output_type": "stream",
     "text": [
      "P_Rs = 0.9894336997410368 W\n",
      "inEff = 0.97 %\n"
     ]
    }
   ],
   "source": [
    "f_sw = 30e3\n",
    "P_Rs = compute_snubber_losses(diode_snubber,\n",
    "                              V=Vpk,\n",
    "                              f_sw=f_sw)\n",
    "print(f'P_Rs = {P_Rs} W')\n",
    "\n",
    "diode_snubber_inEff = P_Rs/Po\n",
    "print(f'inEff = {round(100 * diode_snubber_inEff, 3)} %')"
   ]
  },
  {
   "cell_type": "markdown",
   "metadata": {},
   "source": [
    "## 2. Snubber para o Mosfet:"
   ]
  },
  {
   "cell_type": "markdown",
   "metadata": {},
   "source": [
    "### 2.1. Inferindo as impedâncias parasitas:"
   ]
  },
  {
   "cell_type": "code",
   "execution_count": 56,
   "metadata": {
    "ExecuteTime": {
     "end_time": "2019-07-30T18:00:03.555459Z",
     "start_time": "2019-07-30T18:00:03.548626Z"
    }
   },
   "outputs": [
    {
     "name": "stdout",
     "output_type": "stream",
     "text": [
      "L_lk = 10.868117547416092E-9 H\n",
      "C_lk = 372.91162227602885E-9 F\n",
      "---\n",
      "Cs range = [1.11873487e-06 3.72911622e-06] F\n",
      "Rs range = [0.17071599 0.34143198] Ohms\n"
     ]
    }
   ],
   "source": [
    "mosfet_parasites = compute_parasites(f_ring_before=2.5e6,\n",
    "                                     f_ring_after=2.22e6,\n",
    "                                     C_add=100e-9)\n",
    "\n",
    "mosfet_snubber = compute_snubber(mosfet_parasites)\n",
    "\n",
    "print(f\"L_lk = {Decimal(str(mosfet_parasites['L'])).to_eng_string()} H\")\n",
    "print(f\"C_lk = {Decimal(str(mosfet_parasites['C'])).to_eng_string()} F\")\n",
    "print('---')\n",
    "print(f\"Cs range = {mosfet_snubber['C']} F\")\n",
    "print(f\"Rs range = {mosfet_snubber['R']} Ohms\")"
   ]
  },
  {
   "cell_type": "markdown",
   "metadata": {},
   "source": [
    "### 2.2. Escolhendo uma capacitância:"
   ]
  },
  {
   "cell_type": "code",
   "execution_count": 60,
   "metadata": {
    "ExecuteTime": {
     "end_time": "2019-07-30T18:01:32.454443Z",
     "start_time": "2019-07-30T18:01:32.449121Z"
    }
   },
   "outputs": [
    {
     "name": "stdout",
     "output_type": "stream",
     "text": [
      "Cs chosen = 2e-06 F\n",
      "Rs range = [0.17071599 0.34143198] Ohms\n"
     ]
    }
   ],
   "source": [
    "mosfet_snubber = compute_snubber(mosfet_parasites,\n",
    "                                 C=C)\n",
    "\n",
    "print(f\"Cs chosen = {mosfet_snubber['C']} F\")\n",
    "print(f\"Rs range = {mosfet_snubber['R']} Ohms\")"
   ]
  },
  {
   "cell_type": "markdown",
   "metadata": {},
   "source": [
    "### 2.3. Escolhendo uma resistência:"
   ]
  },
  {
   "cell_type": "code",
   "execution_count": 61,
   "metadata": {
    "ExecuteTime": {
     "end_time": "2019-07-30T18:01:35.480613Z",
     "start_time": "2019-07-30T18:01:35.476325Z"
    }
   },
   "outputs": [
    {
     "name": "stdout",
     "output_type": "stream",
     "text": [
      "Cs chosen = 2e-06 F\n",
      "Rs chosen = 0.2 Ohms\n"
     ]
    }
   ],
   "source": [
    "R = 0.2\n",
    "mosfet_snubber = compute_snubber(mosfet_parasites, \n",
    "                          C=mosfet_snubber['C'],\n",
    "                          R=R)\n",
    "\n",
    "print(f\"Cs chosen = {mosfet_snubber['C']} F\")\n",
    "print(f\"Rs chosen = {mosfet_snubber['R']} Ohms\")"
   ]
  },
  {
   "cell_type": "markdown",
   "metadata": {},
   "source": [
    "### 2.4. Verificando o pico de tensão com o snubber"
   ]
  },
  {
   "cell_type": "code",
   "execution_count": 62,
   "metadata": {
    "ExecuteTime": {
     "end_time": "2019-07-30T18:01:39.923974Z",
     "start_time": "2019-07-30T18:01:39.918475Z"
    },
    "scrolled": false
   },
   "outputs": [
    {
     "name": "stdout",
     "output_type": "stream",
     "text": [
      "Vpk = 125.236024306824\n"
     ]
    }
   ],
   "source": [
    "Vpk = compute_peak_voltage(mosfet_parasites,\n",
    "                           mosfet_snubber,\n",
    "                           Vo=Vo,\n",
    "                           Io=Io)\n",
    "print(f'Vpk = {Vpk}')"
   ]
  },
  {
   "cell_type": "markdown",
   "metadata": {},
   "source": [
    "### 2.5. Verificando a potência perdida no resistor:"
   ]
  },
  {
   "cell_type": "code",
   "execution_count": 63,
   "metadata": {
    "ExecuteTime": {
     "end_time": "2019-07-30T18:01:42.787636Z",
     "start_time": "2019-07-30T18:01:42.780840Z"
    }
   },
   "outputs": [
    {
     "name": "stdout",
     "output_type": "stream",
     "text": [
      "P_Rs = 392.1015446044853 W\n",
      "inEff = 4.357 %\n"
     ]
    }
   ],
   "source": [
    "f_sw =12.5e3\n",
    "P_Rs = compute_snubber_losses(mosfet_snubber, \n",
    "                              V=Vpk, \n",
    "                              f_sw=f_sw)\n",
    "print(f'P_Rs = {P_Rs} W')\n",
    "\n",
    "mosfet_snubber_inEff = P_Rs/Po\n",
    "print(f'inEff = {round(100 * mosfet_snubber_inEff, 3)} %')"
   ]
  },
  {
   "cell_type": "code",
   "execution_count": 68,
   "metadata": {
    "ExecuteTime": {
     "end_time": "2019-07-30T18:26:24.529980Z",
     "start_time": "2019-07-30T18:26:24.523007Z"
    }
   },
   "outputs": [
    {
     "name": "stdout",
     "output_type": "stream",
     "text": [
      "0.11096539429726633\n",
      "3.7291162227602885e-07\n"
     ]
    }
   ],
   "source": [
    "# http://rohmfs.rohm.com/en/products/databook/applinote/ic/power/switching_regulator/buck_snubber_app-e.pdf\n",
    "\n",
    "Rsn = 0.65 * np.sqrt(mosfet_parasites['L'] / mosfet_parasites['C'])\n",
    "Csn = 1 * mosfet_parasites['C']\n",
    "\n",
    "print(Rsn)\n",
    "print(Csn)"
   ]
  }
 ],
 "metadata": {
  "kernelspec": {
   "display_name": "Python 3",
   "language": "python",
   "name": "python3"
  },
  "language_info": {
   "codemirror_mode": {
    "name": "ipython",
    "version": 3
   },
   "file_extension": ".py",
   "mimetype": "text/x-python",
   "name": "python",
   "nbconvert_exporter": "python",
   "pygments_lexer": "ipython3",
   "version": "3.7.4"
  },
  "varInspector": {
   "cols": {
    "lenName": 16,
    "lenType": 16,
    "lenVar": 40
   },
   "kernels_config": {
    "python": {
     "delete_cmd_postfix": "",
     "delete_cmd_prefix": "del ",
     "library": "var_list.py",
     "varRefreshCmd": "print(var_dic_list())"
    },
    "r": {
     "delete_cmd_postfix": ") ",
     "delete_cmd_prefix": "rm(",
     "library": "var_list.r",
     "varRefreshCmd": "cat(var_dic_list()) "
    }
   },
   "types_to_exclude": [
    "module",
    "function",
    "builtin_function_or_method",
    "instance",
    "_Feature"
   ],
   "window_display": false
  }
 },
 "nbformat": 4,
 "nbformat_minor": 2
}
